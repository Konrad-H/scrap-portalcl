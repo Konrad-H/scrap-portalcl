{
 "metadata": {
  "language_info": {
   "codemirror_mode": {
    "name": "ipython",
    "version": 3
   },
   "file_extension": ".py",
   "mimetype": "text/x-python",
   "name": "python",
   "nbconvert_exporter": "python",
   "pygments_lexer": "ipython3",
   "version": "3.8.5"
  },
  "orig_nbformat": 2,
  "kernelspec": {
   "name": "pythonjvsc74a57bd06a4d94bbed74653cf3b14b4cf58dc2f0518cd852673182cb90e3506c41fbc030",
   "display_name": "Python 3.8.5 64-bit ('.venv': venv)"
  },
  "metadata": {
   "interpreter": {
    "hash": "6a4d94bbed74653cf3b14b4cf58dc2f0518cd852673182cb90e3506c41fbc030"
   }
  }
 },
 "nbformat": 4,
 "nbformat_minor": 2,
 "cells": [
  {
   "source": [
    "# Scrapper PORTALCHILE.ORG"
   ],
   "cell_type": "markdown",
   "metadata": {}
  },
  {
   "source": [
    "## Data"
   ],
   "cell_type": "markdown",
   "metadata": {}
  },
  {
   "source": [
    "### load the data "
   ],
   "cell_type": "markdown",
   "metadata": {}
  },
  {
   "cell_type": "code",
   "execution_count": 1,
   "metadata": {},
   "outputs": [],
   "source": [
    "import pandas as pd"
   ]
  },
  {
   "cell_type": "code",
   "execution_count": 2,
   "metadata": {},
   "outputs": [
    {
     "output_type": "execute_result",
     "data": {
      "text/plain": [
       "                                                                                                 name  \\\n",
       "DONANTE                                                                                                 \n",
       "DEPOCARGO DEPÃSITO ADUANERO DE CARGA LTDA.             Depocargo Deposito Aduanero De Carga Limitada   \n",
       "LIMITADA OLIVARES OLIVARES                                                 Olivares Olivares Limitada   \n",
       "CHARTERING Y TRADING JAVIER                                     Chartering Y Trading Javier Bade Eirl   \n",
       "RENCORET Y RIUTTIMANN ARQUITECTURA E INVERSIONE...  Rencoret Y Ruttimann Arquitectura E Inversione...   \n",
       "ASESORIAS E INVERSIONES AHUMADA LTDA.                        Asesorias E Inversiones Ahumada Limitada   \n",
       "\n",
       "                                                                                                 item  \\\n",
       "DONANTE                                                                                                 \n",
       "DEPOCARGO DEPÃSITO ADUANERO DE CARGA LTDA.           J - Transporte, Almacenamiento Y Comunicaciones   \n",
       "LIMITADA OLIVARES OLIVARES                                 D - Industrias Manufactureras No Metalicas   \n",
       "CHARTERING Y TRADING JAVIER                         J - Transporte, Almacenamiento Y Comunicacione...   \n",
       "RENCORET Y RIUTTIMANN ARQUITECTURA E INVERSIONE...  L - Actividades Inmobiliarias, Empresariales Y...   \n",
       "ASESORIAS E INVERSIONES AHUMADA LTDA.               A - Agricultura, Ganaderia, Caza Y Silvicultur...   \n",
       "\n",
       "                                                                                              subitem  \\\n",
       "DONANTE                                                                                                 \n",
       "DEPOCARGO DEPÃSITO ADUANERO DE CARGA LTDA.         630 -  Act. De Transporte Complementarias Y Au...   \n",
       "LIMITADA OLIVARES OLIVARES                          222 - Actividades De Impresion Y De Servicios ...   \n",
       "CHARTERING Y TRADING JAVIER                         602 -  Otros Tipos De Transporte Por Via Terre...   \n",
       "RENCORET Y RIUTTIMANN ARQUITECTURA E INVERSIONE...  742 -  Actividades De Arquitectura E Ingenieri...   \n",
       "ASESORIAS E INVERSIONES AHUMADA LTDA.               014 - Actividades De Servicios Agricolas Y Gan...   \n",
       "\n",
       "                                                                                             activity  \\\n",
       "DONANTE                                                                                                 \n",
       "DEPOCARGO DEPÃSITO ADUANERO DE CARGA LTDA.         630100 - Manipulacion De La Carga,630200 - Ser...   \n",
       "LIMITADA OLIVARES OLIVARES                          222200 - Actividades De Servicio Relacionada C...   \n",
       "CHARTERING Y TRADING JAVIER                         602300 - Transporte De Carga Por Carretera,611...   \n",
       "RENCORET Y RIUTTIMANN ARQUITECTURA E INVERSIONE...  742110 - Servicios De Arquitectura Y Tecnico R...   \n",
       "ASESORIAS E INVERSIONES AHUMADA LTDA.               014019 - Otros Servicios Agricolas N.c.p.,6599...   \n",
       "\n",
       "                                                             rut  \n",
       "DONANTE                                                           \n",
       "DEPOCARGO DEPÃSITO ADUANERO DE CARGA LTDA.         96.888.200-7  \n",
       "LIMITADA OLIVARES OLIVARES                          82.437.600-K  \n",
       "CHARTERING Y TRADING JAVIER                         76.838.470-3  \n",
       "RENCORET Y RIUTTIMANN ARQUITECTURA E INVERSIONE...  78.265.910-3  \n",
       "ASESORIAS E INVERSIONES AHUMADA LTDA.               76.092.180-7  "
      ],
      "text/html": "<div>\n<style scoped>\n    .dataframe tbody tr th:only-of-type {\n        vertical-align: middle;\n    }\n\n    .dataframe tbody tr th {\n        vertical-align: top;\n    }\n\n    .dataframe thead th {\n        text-align: right;\n    }\n</style>\n<table border=\"1\" class=\"dataframe\">\n  <thead>\n    <tr style=\"text-align: right;\">\n      <th></th>\n      <th>name</th>\n      <th>item</th>\n      <th>subitem</th>\n      <th>activity</th>\n      <th>rut</th>\n    </tr>\n    <tr>\n      <th>DONANTE</th>\n      <th></th>\n      <th></th>\n      <th></th>\n      <th></th>\n      <th></th>\n    </tr>\n  </thead>\n  <tbody>\n    <tr>\n      <th>DEPOCARGO DEPÃSITO ADUANERO DE CARGA LTDA.</th>\n      <td>Depocargo Deposito Aduanero De Carga Limitada</td>\n      <td>J - Transporte, Almacenamiento Y Comunicaciones</td>\n      <td>630 -  Act. De Transporte Complementarias Y Au...</td>\n      <td>630100 - Manipulacion De La Carga,630200 - Ser...</td>\n      <td>96.888.200-7</td>\n    </tr>\n    <tr>\n      <th>LIMITADA OLIVARES OLIVARES</th>\n      <td>Olivares Olivares Limitada</td>\n      <td>D - Industrias Manufactureras No Metalicas</td>\n      <td>222 - Actividades De Impresion Y De Servicios ...</td>\n      <td>222200 - Actividades De Servicio Relacionada C...</td>\n      <td>82.437.600-K</td>\n    </tr>\n    <tr>\n      <th>CHARTERING Y TRADING JAVIER</th>\n      <td>Chartering Y Trading Javier Bade Eirl</td>\n      <td>J - Transporte, Almacenamiento Y Comunicacione...</td>\n      <td>602 -  Otros Tipos De Transporte Por Via Terre...</td>\n      <td>602300 - Transporte De Carga Por Carretera,611...</td>\n      <td>76.838.470-3</td>\n    </tr>\n    <tr>\n      <th>RENCORET Y RIUTTIMANN ARQUITECTURA E INVERSIONES LTDA</th>\n      <td>Rencoret Y Ruttimann Arquitectura E Inversione...</td>\n      <td>L - Actividades Inmobiliarias, Empresariales Y...</td>\n      <td>742 -  Actividades De Arquitectura E Ingenieri...</td>\n      <td>742110 - Servicios De Arquitectura Y Tecnico R...</td>\n      <td>78.265.910-3</td>\n    </tr>\n    <tr>\n      <th>ASESORIAS E INVERSIONES AHUMADA LTDA.</th>\n      <td>Asesorias E Inversiones Ahumada Limitada</td>\n      <td>A - Agricultura, Ganaderia, Caza Y Silvicultur...</td>\n      <td>014 - Actividades De Servicios Agricolas Y Gan...</td>\n      <td>014019 - Otros Servicios Agricolas N.c.p.,6599...</td>\n      <td>76.092.180-7</td>\n    </tr>\n  </tbody>\n</table>\n</div>"
     },
     "metadata": {},
     "execution_count": 2
    }
   ],
   "source": [
    "df = pd.read_csv('assets/datos_empresas.csv', index_col='DONANTE')\n",
    "\n",
    "df.head()"
   ]
  },
  {
   "source": [
    "### save the name used to make the query"
   ],
   "cell_type": "markdown",
   "metadata": {}
  },
  {
   "cell_type": "code",
   "execution_count": 3,
   "metadata": {},
   "outputs": [],
   "source": [
    "names = df.name.str.lower().str.replace(' ','-')\n",
    "ruts =  df.rut.str.replace('.','', regex=True)\n",
    "ruts = ruts.str.split('-', expand=True)[0]\n",
    "webname = names + '-' + ruts\n",
    "df = df.assign(webname = webname)"
   ]
  },
  {
   "source": [
    "## use soup"
   ],
   "cell_type": "markdown",
   "metadata": {}
  },
  {
   "cell_type": "code",
   "execution_count": 4,
   "metadata": {},
   "outputs": [],
   "source": [
    "from bs4 import BeautifulSoup\n",
    "import requests"
   ]
  },
  {
   "source": [
    "### helper functions"
   ],
   "cell_type": "markdown",
   "metadata": {}
  },
  {
   "cell_type": "code",
   "execution_count": 5,
   "metadata": {},
   "outputs": [],
   "source": [
    "\n",
    "def get_atts(soup):\n",
    "\n",
    "    atts = {}\n",
    "    \n",
    "    div = soup.find(class_ = 'profile-header')\n",
    "    p = div.find('p', class_ = 'thin')\n",
    "    atts['Rubro'] =   p.find('a').text\n",
    "\n",
    "    div_list = soup.find_all(class_ = 'profile-followers')\n",
    "    for div in div_list:\n",
    "        a_list = div.find_all('a')\n",
    "        for a in a_list:\n",
    "            att_name = a.find('em').text\n",
    "            atts[att_name] = a.text.replace(att_name,'')\n",
    "    return atts"
   ]
  },
  {
   "source": [
    "### make da requests"
   ],
   "cell_type": "markdown",
   "metadata": {}
  },
  {
   "cell_type": "code",
   "execution_count": 6,
   "metadata": {},
   "outputs": [],
   "source": [
    "url_template = 'https://www.portalchile.org/empresa/'"
   ]
  },
  {
   "source": [
    "\n",
    "dict_df = {}\n",
    "for i in webname.index:\n",
    "\n",
    "    html_text = requests.get(url_template + webname[i]).text\n",
    "    soup = BeautifulSoup(html_text, 'lxml')\n",
    "\n",
    "    try:\n",
    "        dict_df[i] = get_atts(soup)\n",
    "    except AttributeError:\n",
    "        print(i)\n",
    "    \n"
   ],
   "cell_type": "code",
   "metadata": {},
   "execution_count": 7,
   "outputs": [
    {
     "output_type": "stream",
     "name": "stdout",
     "text": [
      "ISABEL RAMM CAMBIASO\n",
      "ALEXANDER LOWENSTEIN VASQUEZ\n",
      "MONICA DEL ROSARIO PEREZ OBREQUE\n",
      "SOCIEDAD COMERCIALIZADORA PROMATHER S. A.\n",
      "DISTRIBUIDORA DE ARTICULOS MEDICOS\n",
      "DISTRIBUIDORA DE GAS VEGA LTDA.\n",
      "SIMONETTI INMOVILIARIA S.A.\n",
      "SQM SALAR S.A.\n",
      "SOCIEDAD COMERCIAL SAN ANTONIO Y CIA. LTDA.\n",
      "JORGE VALENZUELA\n",
      "INVERSIONES DESARROLLO  SPA.\n",
      "COMERCIAL G Y G LTDA.\n",
      "GESTION AMBIENTAL S.A\n",
      "NEA CONSULTORES ASOCIADOS LIMITADA\n",
      "CLAUDIO RIVERA Y COMPANIA\n",
      "INVERSIONES JACARANDA LTDA\n",
      "SOLUCIONES BIOTECNOLOGICAS SPA\n",
      "SOC. DE INVERSIONES Y ASESORIAS SANTA CATALINA LTDA\n",
      "CGS CHILE LTDA\n",
      "JORGE MERINO MORALES\n",
      "RODRIGO GALLARDO DIAZ\n",
      "FUND ANGELINI\n",
      "SERVICIOS PROFESIONALES CARRASCO GALDAMES Y CIA\n",
      "INMOBILIARIA PLAYA MANSA S.A.\n",
      "SINDICATO DE EMPRESA DE TRANSPORTE FERROVIARIO S A TRACCION N 4\n",
      "PROYECTOS Y CONSTRUCCIONES MADRID SPA\n",
      "CLAUDIO MUÃOZ\n",
      "BRUNO GATTINI KALWITZ\n",
      "INGENIERIA CGSA\n",
      "INVERSIONES SAN BENITO LTDA\n",
      "COMERCIAL SANTIAGO LTDA\n",
      "INVERSIONES AMAL LTDA\n",
      "COMERCIALIZADORA DE PRODUCTOS METALÃRGICOS S.A\n",
      "SIND PESCADORES ARTESA INDEP DE VTAS DEGUST MARISCO PESCADO Y AFINES\n",
      "CLAUDIO VERDEJO\n"
     ]
    }
   ]
  },
  {
   "cell_type": "code",
   "execution_count": 8,
   "metadata": {},
   "outputs": [
    {
     "output_type": "stream",
     "name": "stdout",
     "text": [
      "517\n482\n"
     ]
    }
   ],
   "source": [
    "new_df = pd.DataFrame.from_dict(dict_df, orient='index') \n",
    "print(len(df))\n",
    "new_df = new_df.merge(df, left_index=True, right_index=True)\n",
    "print(len(new_df))"
   ]
  },
  {
   "cell_type": "code",
   "execution_count": 9,
   "metadata": {},
   "outputs": [],
   "source": [
    "new_df.to_csv('outs/datos_buiss.csv')"
   ]
  }
 ]
}